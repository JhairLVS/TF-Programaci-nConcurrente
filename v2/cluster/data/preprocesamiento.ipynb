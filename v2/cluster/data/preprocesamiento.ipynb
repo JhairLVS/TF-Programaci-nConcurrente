{
 "cells": [
  {
   "cell_type": "code",
   "execution_count": 2,
   "metadata": {},
   "outputs": [],
   "source": [
    "import pandas as pd\n",
    "import numpy as np"
   ]
  },
  {
   "cell_type": "code",
   "execution_count": 3,
   "metadata": {},
   "outputs": [
    {
     "name": "stdout",
     "output_type": "stream",
     "text": [
      "   Unnamed: 0   review_id          product_id          reviewer_id  stars  \\\n",
      "0           0  de_0203609  product_de_0865382  reviewer_de_0267719      1   \n",
      "1           1  de_0559494  product_de_0678997  reviewer_de_0783625      1   \n",
      "2           2  de_0238777  product_de_0372235  reviewer_de_0911426      1   \n",
      "3           3  de_0477884  product_de_0719501  reviewer_de_0836478      1   \n",
      "4           4  de_0270868  product_de_0022613  reviewer_de_0736276      1   \n",
      "\n",
      "                                         review_body  \\\n",
      "0     Armband ist leider nach 1 Jahr kaputt gegangen   \n",
      "1                 In der Lieferung war nur Ein Akku!   \n",
      "2  Ein Stern, weil gar keine geht nicht. Es hande...   \n",
      "3  Dachte, das wären einfach etwas festere Binden...   \n",
      "4  Meine Kinder haben kaum damit gespielt und nac...   \n",
      "\n",
      "                review_title language  product_category  \n",
      "0  Leider nach 1 Jahr kaputt       de            sports  \n",
      "1   EINS statt ZWEI Akkus!!!       de  home_improvement  \n",
      "2            Achtung Abzocke       de         drugstore  \n",
      "3          Zu viel des Guten       de         drugstore  \n",
      "4     Qualität sehr schlecht       de               toy  \n"
     ]
    }
   ],
   "source": [
    "# Cargar el dataset desde un archivo CSV\n",
    "file_path = \"train.csv\"  # Reemplaza con la ruta a tu archivo\n",
    "df = pd.read_csv(file_path)\n",
    "\n",
    "# Mostrar los primeros registros del dataset\n",
    "print(df.head())"
   ]
  },
  {
   "cell_type": "code",
   "execution_count": 4,
   "metadata": {},
   "outputs": [
    {
     "name": "stdout",
     "output_type": "stream",
     "text": [
      "<class 'pandas.core.frame.DataFrame'>\n",
      "RangeIndex: 1200000 entries, 0 to 1199999\n",
      "Data columns (total 9 columns):\n",
      " #   Column            Non-Null Count    Dtype \n",
      "---  ------            --------------    ----- \n",
      " 0   Unnamed: 0        1200000 non-null  int64 \n",
      " 1   review_id         1200000 non-null  object\n",
      " 2   product_id        1200000 non-null  object\n",
      " 3   reviewer_id       1200000 non-null  object\n",
      " 4   stars             1200000 non-null  int64 \n",
      " 5   review_body       1200000 non-null  object\n",
      " 6   review_title      1199957 non-null  object\n",
      " 7   language          1200000 non-null  object\n",
      " 8   product_category  1200000 non-null  object\n",
      "dtypes: int64(2), object(7)\n",
      "memory usage: 82.4+ MB\n",
      "None\n",
      "         Unnamed: 0         stars\n",
      "count  1.200000e+06  1.200000e+06\n",
      "mean   5.999995e+05  3.000000e+00\n",
      "std    3.464103e+05  1.414214e+00\n",
      "min    0.000000e+00  1.000000e+00\n",
      "25%    2.999998e+05  2.000000e+00\n",
      "50%    5.999995e+05  3.000000e+00\n",
      "75%    8.999992e+05  4.000000e+00\n",
      "max    1.199999e+06  5.000000e+00\n",
      "Valores nulos por columna:\n",
      "Unnamed: 0           0\n",
      "review_id            0\n",
      "product_id           0\n",
      "reviewer_id          0\n",
      "stars                0\n",
      "review_body          0\n",
      "review_title        43\n",
      "language             0\n",
      "product_category     0\n",
      "dtype: int64\n",
      "Número de registros duplicados: 0\n"
     ]
    }
   ],
   "source": [
    "# Información general del dataset\n",
    "print(df.info())\n",
    "\n",
    "# Estadísticas descriptivas\n",
    "print(df.describe())\n",
    "\n",
    "# Comprobar valores nulos\n",
    "print(\"Valores nulos por columna:\")\n",
    "print(df.isnull().sum())\n",
    "\n",
    "# Comprobar duplicados\n",
    "print(\"Número de registros duplicados:\", df.duplicated().sum())\n"
   ]
  },
  {
   "cell_type": "code",
   "execution_count": 5,
   "metadata": {},
   "outputs": [],
   "source": [
    "# Eliminar registros duplicados\n",
    "df = df.drop_duplicates()"
   ]
  },
  {
   "cell_type": "code",
   "execution_count": 6,
   "metadata": {},
   "outputs": [],
   "source": [
    "# Eliminar registros con valores nulos\n",
    "df = df.dropna()"
   ]
  },
  {
   "cell_type": "code",
   "execution_count": 8,
   "metadata": {},
   "outputs": [
    {
     "name": "stdout",
     "output_type": "stream",
     "text": [
      "Número de registros por idioma:\n",
      "language\n",
      "de    200000\n",
      "es    200000\n",
      "ja    200000\n",
      "fr    199996\n",
      "zh    199994\n",
      "en    199967\n",
      "Name: count, dtype: int64\n"
     ]
    }
   ],
   "source": [
    "# Contar el número de registros por idioma\n",
    "language_counts = df['language'].value_counts()\n",
    "\n",
    "# Mostrar el conteo de idiomas\n",
    "print(\"Número de registros por idioma:\")\n",
    "print(language_counts)"
   ]
  },
  {
   "cell_type": "code",
   "execution_count": 9,
   "metadata": {},
   "outputs": [
    {
     "data": {
      "image/png": "[encoded data removed]",
      "text/plain": [
       "<Figure size 640x480 with 1 Axes>"
      ]
     },
     "metadata": {},
     "output_type": "display_data"
    }
   ],
   "source": [
    "# Visualizar los idiomas en un gráfico de barras\n",
    "import matplotlib.pyplot as plt\n",
    "\n",
    "language_counts.plot(kind='bar')\n",
    "plt.xlabel(\"Idioma\")\n",
    "plt.ylabel(\"Cantidad de registros\")\n",
    "plt.title(\"Distribución de registros por idioma\")\n",
    "plt.show()"
   ]
  },
  {
   "cell_type": "code",
   "execution_count": 10,
   "metadata": {},
   "outputs": [],
   "source": [
    "# Filtrar por idioma español\n",
    "df_es = df[df['language'] == 'es']"
   ]
  },
  {
   "cell_type": "code",
   "execution_count": 9,
   "metadata": {},
   "outputs": [
    {
     "name": "stdout",
     "output_type": "stream",
     "text": [
      "Número de usuarios únicos: 1098250\n",
      "Número de productos únicos: 963013\n",
      "Número total de reseñas: 1199957\n"
     ]
    }
   ],
   "source": [
    "# Número de usuarios únicos\n",
    "num_users = df['reviewer_id'].nunique()\n",
    "print(\"Número de usuarios únicos:\", num_users)\n",
    "\n",
    "# Número de productos únicos\n",
    "num_products = df['product_id'].nunique()\n",
    "print(\"Número de productos únicos:\", num_products)\n",
    "\n",
    "# Número total de reseñas\n",
    "print(\"Número total de reseñas:\", len(df))"
   ]
  },
  {
   "cell_type": "code",
   "execution_count": 12,
   "metadata": {},
   "outputs": [
    {
     "name": "stdout",
     "output_type": "stream",
     "text": [
      "Distribución de calificaciones:\n",
      "stars\n",
      "1    40000\n",
      "2    40000\n",
      "3    40000\n",
      "4    40000\n",
      "5    40000\n",
      "Name: count, dtype: int64\n"
     ]
    },
    {
     "data": {
      "image/png": "[encoded data removed]",
      "text/plain": [
       "<Figure size 640x480 with 1 Axes>"
      ]
     },
     "metadata": {},
     "output_type": "display_data"
    }
   ],
   "source": [
    "# Distribución de las calificaciones\n",
    "stars_distribution = df_es['stars'].value_counts()\n",
    "print(\"Distribución de calificaciones:\")\n",
    "print(stars_distribution)\n",
    "\n",
    "stars_distribution.sort_index().plot(kind='bar')\n",
    "plt.xlabel(\"Calificaciones (1-5)\")\n",
    "plt.ylabel(\"Frecuencia\")\n",
    "plt.title(\"Distribución de calificaciones\")\n",
    "plt.show()\n"
   ]
  },
  {
   "cell_type": "code",
   "execution_count": 10,
   "metadata": {},
   "outputs": [
    {
     "data": {
      "text/html": [
       "<div>\n",
       "<style scoped>\n",
       "    .dataframe tbody tr th:only-of-type {\n",
       "        vertical-align: middle;\n",
       "    }\n",
       "\n",
       "    .dataframe tbody tr th {\n",
       "        vertical-align: top;\n",
       "    }\n",
       "\n",
       "    .dataframe thead th {\n",
       "        text-align: right;\n",
       "    }\n",
       "</style>\n",
       "<table border=\"1\" class=\"dataframe\">\n",
       "  <thead>\n",
       "    <tr style=\"text-align: right;\">\n",
       "      <th></th>\n",
       "      <th>reviewer_id</th>\n",
       "      <th>product_id</th>\n",
       "      <th>stars</th>\n",
       "      <th>product_category</th>\n",
       "    </tr>\n",
       "  </thead>\n",
       "  <tbody>\n",
       "    <tr>\n",
       "      <th>0</th>\n",
       "      <td>reviewer_de_0267719</td>\n",
       "      <td>product_de_0865382</td>\n",
       "      <td>1</td>\n",
       "      <td>sports</td>\n",
       "    </tr>\n",
       "    <tr>\n",
       "      <th>1</th>\n",
       "      <td>reviewer_de_0783625</td>\n",
       "      <td>product_de_0678997</td>\n",
       "      <td>1</td>\n",
       "      <td>home_improvement</td>\n",
       "    </tr>\n",
       "    <tr>\n",
       "      <th>2</th>\n",
       "      <td>reviewer_de_0911426</td>\n",
       "      <td>product_de_0372235</td>\n",
       "      <td>1</td>\n",
       "      <td>drugstore</td>\n",
       "    </tr>\n",
       "    <tr>\n",
       "      <th>3</th>\n",
       "      <td>reviewer_de_0836478</td>\n",
       "      <td>product_de_0719501</td>\n",
       "      <td>1</td>\n",
       "      <td>drugstore</td>\n",
       "    </tr>\n",
       "    <tr>\n",
       "      <th>4</th>\n",
       "      <td>reviewer_de_0736276</td>\n",
       "      <td>product_de_0022613</td>\n",
       "      <td>1</td>\n",
       "      <td>toy</td>\n",
       "    </tr>\n",
       "  </tbody>\n",
       "</table>\n",
       "</div>"
      ],
      "text/plain": [
       "           reviewer_id          product_id  stars  product_category\n",
       "0  reviewer_de_0267719  product_de_0865382      1            sports\n",
       "1  reviewer_de_0783625  product_de_0678997      1  home_improvement\n",
       "2  reviewer_de_0911426  product_de_0372235      1         drugstore\n",
       "3  reviewer_de_0836478  product_de_0719501      1         drugstore\n",
       "4  reviewer_de_0736276  product_de_0022613      1               toy"
      ]
     },
     "execution_count": 10,
     "metadata": {},
     "output_type": "execute_result"
    }
   ],
   "source": [
    "# Seleccionar columnas relevantes\n",
    "columns_needed = ['reviewer_id', 'product_id', 'stars', 'product_category']\n",
    "df_cleaned = df[columns_needed]\n",
    "\n",
    "df_cleaned.head()"
   ]
  },
  {
   "cell_type": "code",
   "execution_count": 11,
   "metadata": {},
   "outputs": [
    {
     "name": "stdout",
     "output_type": "stream",
     "text": [
      "El producto con más reseñas es 'product_zh_0266705' con 12 reseñas.\n",
      "El usuario que hizo más reseñas es 'reviewer_zh_0071620' con 16 reseñas.\n"
     ]
    }
   ],
   "source": [
    "# Producto con más reseñas\n",
    "product_most_reviews = df_cleaned['product_id'].value_counts().idxmax()\n",
    "product_reviews_count = df_cleaned['product_id'].value_counts().max()\n",
    "\n",
    "print(f\"El producto con más reseñas es '{product_most_reviews}' con {product_reviews_count} reseñas.\")\n",
    "\n",
    "# Usuario con más reseñas\n",
    "user_most_reviews = df_cleaned['reviewer_id'].value_counts().idxmax()\n",
    "user_reviews_count = df_cleaned['reviewer_id'].value_counts().max()\n",
    "\n",
    "print(f\"El usuario que hizo más reseñas es '{user_most_reviews}' con {user_reviews_count} reseñas.\")\n"
   ]
  },
  {
   "cell_type": "code",
   "execution_count": 12,
   "metadata": {},
   "outputs": [
    {
     "name": "stdout",
     "output_type": "stream",
     "text": [
      "Dataset limpio guardado en: amazon_reviews_cleaned.csv\n"
     ]
    }
   ],
   "source": [
    "# Guardar el dataset limpio\n",
    "cleaned_file_path = \"amazon_reviews_cleaned.csv\"\n",
    "df_cleaned.to_csv(cleaned_file_path, index=False)\n",
    "\n",
    "print(f\"Dataset limpio guardado en: {cleaned_file_path}\")"
   ]
  },
  {
   "cell_type": "code",
   "execution_count": 17,
   "metadata": {},
   "outputs": [
    {
     "ename": "ModuleNotFoundError",
     "evalue": "No module named 'ploty'",
     "output_type": "error",
     "traceback": [
      "\u001b[1;31m---------------------------------------------------------------------------\u001b[0m",
      "\u001b[1;31mModuleNotFoundError\u001b[0m                       Traceback (most recent call last)",
      "Cell \u001b[1;32mIn[17], line 1\u001b[0m\n\u001b[1;32m----> 1\u001b[0m \u001b[38;5;28;01mimport\u001b[39;00m \u001b[38;5;21;01mploty\u001b[39;00m \u001b[38;5;28;01mas\u001b[39;00m \u001b[38;5;21;01mplt\u001b[39;00m\n\u001b[0;32m      2\u001b[0m \u001b[38;5;66;03m# Contar reseñas por categoría\u001b[39;00m\n\u001b[0;32m      3\u001b[0m top_categories \u001b[38;5;241m=\u001b[39m df_cleaned[\u001b[38;5;124m'\u001b[39m\u001b[38;5;124mproduct_category\u001b[39m\u001b[38;5;124m'\u001b[39m]\u001b[38;5;241m.\u001b[39mvalue_counts()\u001b[38;5;241m.\u001b[39mhead(\u001b[38;5;241m10\u001b[39m)\n",
      "\u001b[1;31mModuleNotFoundError\u001b[0m: No module named 'ploty'"
     ]
    }
   ],
   "source": [
    "import ploty as plt\n",
    "# Contar reseñas por categoría\n",
    "top_categories = df_cleaned['product_category'].value_counts().head(10)\n",
    "\n",
    "print(\"Categorías principales:\")\n",
    "print(top_categories)\n",
    "\n",
    "# Gráfica\n",
    "top_categories.plot(kind='bar')\n",
    "plt.title(\"Categorías con Más Reseñas\")\n",
    "plt.xlabel(\"Categoría\")\n",
    "plt.ylabel(\"Cantidad de Reseñas\")\n",
    "plt.show()\n"
   ]
  },
  {
   "cell_type": "code",
   "execution_count": 18,
   "metadata": {},
   "outputs": [
    {
     "name": "stdout",
     "output_type": "stream",
     "text": [
      "Productos principales:\n",
      "product_id\n",
      "product_es_0261843    8\n",
      "product_es_0087077    7\n",
      "product_es_0523350    7\n",
      "product_es_0801630    7\n",
      "product_es_0874126    7\n",
      "product_es_0544842    7\n",
      "product_es_0568956    7\n",
      "product_es_0393632    7\n",
      "product_es_0616440    7\n",
      "product_es_0808483    7\n",
      "Name: count, dtype: int64\n"
     ]
    }
   ],
   "source": [
    "# Contar reseñas por producto\n",
    "top_products = df_cleaned['product_id'].value_counts().head(10)\n",
    "\n",
    "print(\"Productos principales:\")\n",
    "print(top_products)\n"
   ]
  }
 ],
 "metadata": {
  "kernelspec": {
   "display_name": "colab_python",
   "language": "python",
   "name": "python3"
  },
  "language_info": {
   "codemirror_mode": {
    "name": "ipython",
    "version": 3
   },
   "file_extension": ".py",
   "mimetype": "text/x-python",
   "name": "python",
   "nbconvert_exporter": "python",
   "pygments_lexer": "ipython3",
   "version": "3.12.7"
  }
 },
 "nbformat": 4,
 "nbformat_minor": 2
}
